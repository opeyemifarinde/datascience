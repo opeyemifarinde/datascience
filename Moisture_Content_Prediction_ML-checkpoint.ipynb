{
 "cells": [
  {
   "cell_type": "markdown",
   "metadata": {},
   "source": [
    "The purpose of this notebook is to predict moisture content using three parameters. Supervised machine learning is deployed since we have historical data to predict moisture content. \n",
    "\n",
    "We will be doing a multivariate regression.\n",
    "\n",
    "For more details about dataset, contact Oluseun Sanuade at sheunsky@gmail.com"
   ]
  },
  {
   "cell_type": "code",
   "execution_count": 3,
   "metadata": {},
   "outputs": [],
   "source": [
    "import numpy as np\n",
    "import pandas as pd\n",
    "import matplotlib.pyplot as plt\n",
    "\n",
    "import seaborn as sns\n",
    "sns.set_style(\"whitegrid\")\n",
    "%matplotlib inline\n",
    "\n",
    "Data_thermal = pd.read_excel(\"C:\\\\Users\\Alaka\\Desktop\\Data_thermal_Oluseun.xlsx\", \"Sheet1\")"
   ]
  },
  {
   "cell_type": "code",
   "execution_count": 4,
   "metadata": {},
   "outputs": [
    {
     "name": "stdout",
     "output_type": "stream",
     "text": [
      "<class 'pandas.core.frame.DataFrame'>\n",
      "RangeIndex: 75 entries, 0 to 74\n",
      "Data columns (total 4 columns):\n",
      "Thermal Conductivity (W/mK)     75 non-null float64\n",
      "Thermal Diffusivity (mm^2/s)    75 non-null float64\n",
      "Specific Heat (mJ/m^3K)         75 non-null float64\n",
      "Moisture content                75 non-null float64\n",
      "dtypes: float64(4)\n",
      "memory usage: 2.4 KB\n"
     ]
    }
   ],
   "source": [
    "Data_thermal.info()"
   ]
  },
  {
   "cell_type": "code",
   "execution_count": 5,
   "metadata": {},
   "outputs": [
    {
     "data": {
      "text/html": [
       "<div>\n",
       "<style scoped>\n",
       "    .dataframe tbody tr th:only-of-type {\n",
       "        vertical-align: middle;\n",
       "    }\n",
       "\n",
       "    .dataframe tbody tr th {\n",
       "        vertical-align: top;\n",
       "    }\n",
       "\n",
       "    .dataframe thead th {\n",
       "        text-align: right;\n",
       "    }\n",
       "</style>\n",
       "<table border=\"1\" class=\"dataframe\">\n",
       "  <thead>\n",
       "    <tr style=\"text-align: right;\">\n",
       "      <th></th>\n",
       "      <th>Thermal Conductivity (W/mK)</th>\n",
       "      <th>Thermal Diffusivity (mm^2/s)</th>\n",
       "      <th>Specific Heat (mJ/m^3K)</th>\n",
       "      <th>Moisture content</th>\n",
       "    </tr>\n",
       "  </thead>\n",
       "  <tbody>\n",
       "    <tr>\n",
       "      <th>0</th>\n",
       "      <td>1.332268</td>\n",
       "      <td>0.527</td>\n",
       "      <td>2.530</td>\n",
       "      <td>0.178</td>\n",
       "    </tr>\n",
       "    <tr>\n",
       "      <th>1</th>\n",
       "      <td>1.522302</td>\n",
       "      <td>0.730</td>\n",
       "      <td>2.086</td>\n",
       "      <td>0.176</td>\n",
       "    </tr>\n",
       "    <tr>\n",
       "      <th>2</th>\n",
       "      <td>1.378550</td>\n",
       "      <td>0.615</td>\n",
       "      <td>2.240</td>\n",
       "      <td>0.202</td>\n",
       "    </tr>\n",
       "    <tr>\n",
       "      <th>3</th>\n",
       "      <td>1.582779</td>\n",
       "      <td>0.752</td>\n",
       "      <td>2.105</td>\n",
       "      <td>0.182</td>\n",
       "    </tr>\n",
       "    <tr>\n",
       "      <th>4</th>\n",
       "      <td>1.489425</td>\n",
       "      <td>0.699</td>\n",
       "      <td>2.144</td>\n",
       "      <td>0.241</td>\n",
       "    </tr>\n",
       "  </tbody>\n",
       "</table>\n",
       "</div>"
      ],
      "text/plain": [
       "   Thermal Conductivity (W/mK)  Thermal Diffusivity (mm^2/s)  \\\n",
       "0                     1.332268                         0.527   \n",
       "1                     1.522302                         0.730   \n",
       "2                     1.378550                         0.615   \n",
       "3                     1.582779                         0.752   \n",
       "4                     1.489425                         0.699   \n",
       "\n",
       "   Specific Heat (mJ/m^3K)  Moisture content  \n",
       "0                    2.530             0.178  \n",
       "1                    2.086             0.176  \n",
       "2                    2.240             0.202  \n",
       "3                    2.105             0.182  \n",
       "4                    2.144             0.241  "
      ]
     },
     "execution_count": 5,
     "metadata": {},
     "output_type": "execute_result"
    }
   ],
   "source": [
    "Data_thermal.head(5)"
   ]
  },
  {
   "cell_type": "code",
   "execution_count": 25,
   "metadata": {},
   "outputs": [
    {
     "data": {
      "text/plain": [
       "Text(0.5,1,'Moisture Content')"
      ]
     },
     "execution_count": 25,
     "metadata": {},
     "output_type": "execute_result"
    },
    {
     "data": {
      "image/png": "[encoded data removed]",
      "text/plain": [
       "<Figure size 432x288 with 1 Axes>"
      ]
     },
     "metadata": {},
     "output_type": "display_data"
    }
   ],
   "source": [
    "plt.figure()\n",
    "\n",
    "Moisture_content = Data_thermal['Moisture content']\n",
    "plt.hist([Moisture_content], bins = 20, ec =\"black\")\n",
    "plt.title(\"Moisture Content\")"
   ]
  },
  {
   "cell_type": "markdown",
   "metadata": {},
   "source": [
    "The distribution of the histogram is a normal distribution. I then create a boxplots to see how Thermal Conductivity (W/mK), Thermal Diffusivity (mm^2/s) and Specific Heat (mJ/m^3K) affect Moisture Content."
   ]
  },
  {
   "cell_type": "code",
   "execution_count": 61,
   "metadata": {},
   "outputs": [
    {
     "data": {
      "text/plain": [
       "Text(0.5,0,'Moisture Content')"
      ]
     },
     "execution_count": 61,
     "metadata": {},
     "output_type": "execute_result"
    },
    {
     "data": {
      "text/plain": [
       "<Figure size 432x288 with 0 Axes>"
      ]
     },
     "metadata": {},
     "output_type": "display_data"
    },
    {
     "data": {
      "image/png": "[encoded data removed]",
      "text/plain": [
       "<Figure size 432x288 with 1 Axes>"
      ]
     },
     "metadata": {},
     "output_type": "display_data"
    }
   ],
   "source": [
    "plt.figure()\n",
    "\n",
    "Impact_of_TC_on_MC = Data_thermal.boxplot(\"Thermal Conductivity (W/mK)\", \"Moisture content\")\n",
    "Impact_of_TC_on_MC.set_xticklabels([\"0.10\", \" \",\" \",\" \",\" \",\" \",\" \", \"0.14\",   \n",
    "                                    \" \",\" \",\" \",\" \",\" \",\" \", \"0.17\", \" \",\" \",\" \",\" \",\" \",\" \", \"0.20\", \n",
    "                                    \" \",\" \",\" \",\" \",\" \",\" \", \"0.23\", \" \",\" \",\" \",\" \",\" \",\" \",\"0.26\", \n",
    "                                    \" \",\" \",\" \",\" \",\" \",\" \", \"0.29\", \" \",\" \",\" \",\" \",\" \",\" \",\"0.32\"])\n",
    "Impact_of_TC_on_MC.set_xlabel(\"Moisture Content\")"
   ]
  },
  {
   "cell_type": "markdown",
   "metadata": {},
   "source": [
    "As thermal conductivity increases, moisture contents appears to increase for the data set."
   ]
  },
  {
   "cell_type": "code",
   "execution_count": 62,
   "metadata": {},
   "outputs": [
    {
     "data": {
      "text/plain": [
       "Text(0.5,0,'Moisture Content')"
      ]
     },
     "execution_count": 62,
     "metadata": {},
     "output_type": "execute_result"
    },
    {
     "data": {
      "text/plain": [
       "<Figure size 432x288 with 0 Axes>"
      ]
     },
     "metadata": {},
     "output_type": "display_data"
    },
    {
     "data": {
      "image/png": "[encoded data removed]",
      "text/plain": [
       "<Figure size 432x288 with 1 Axes>"
      ]
     },
     "metadata": {},
     "output_type": "display_data"
    }
   ],
   "source": [
    "plt.figure()\n",
    "\n",
    "Impact_of_TD_on_MC = Data_thermal.boxplot(\"Thermal Diffusivity (mm^2/s)\", \"Moisture content\")\n",
    "Impact_of_TD_on_MC.set_xticklabels([\"0.10\", \" \",\" \",\" \",\" \",\" \",\" \", \"0.14\",   \n",
    "                                    \" \",\" \",\" \",\" \",\" \",\" \", \"0.17\", \" \",\" \",\" \",\" \",\" \",\" \", \"0.20\", \n",
    "                                    \" \",\" \",\" \",\" \",\" \",\" \", \"0.23\", \" \",\" \",\" \",\" \",\" \",\" \",\"0.26\", \n",
    "                                    \" \",\" \",\" \",\" \",\" \",\" \", \"0.29\", \" \",\" \",\" \",\" \",\" \",\" \",\"0.32\"])\n",
    "Impact_of_TD_on_MC.set_xlabel(\"Moisture Content\")"
   ]
  },
  {
   "cell_type": "markdown",
   "metadata": {},
   "source": [
    "Theremal diffusivity appears not to have any significant impact on moisture content. "
   ]
  },
  {
   "cell_type": "code",
   "execution_count": 63,
   "metadata": {},
   "outputs": [
    {
     "data": {
      "text/plain": [
       "Text(0.5,0,'Moisture Content')"
      ]
     },
     "execution_count": 63,
     "metadata": {},
     "output_type": "execute_result"
    },
    {
     "data": {
      "text/plain": [
       "<Figure size 432x288 with 0 Axes>"
      ]
     },
     "metadata": {},
     "output_type": "display_data"
    },
    {
     "data": {
      "image/png": "[encoded data removed]",
      "text/plain": [
       "<Figure size 432x288 with 1 Axes>"
      ]
     },
     "metadata": {},
     "output_type": "display_data"
    }
   ],
   "source": [
    "plt.figure()\n",
    "\n",
    "Impact_of_SH_on_MC = Data_thermal.boxplot(\"Specific Heat (mJ/m^3K)\", \"Moisture content\")\n",
    "Impact_of_SH_on_MC.set_xticklabels([\"0.10\", \" \",\" \",\" \",\" \",\" \",\" \", \"0.14\",   \n",
    "                                    \" \",\" \",\" \",\" \",\" \",\" \", \"0.17\", \" \",\" \",\" \",\" \",\" \",\" \", \"0.20\", \n",
    "                                    \" \",\" \",\" \",\" \",\" \",\" \", \"0.23\", \" \",\" \",\" \",\" \",\" \",\" \",\"0.26\", \n",
    "                                    \" \",\" \",\" \",\" \",\" \",\" \", \"0.29\", \" \",\" \",\" \",\" \",\" \",\" \",\"0.32\"])\n",
    "Impact_of_SH_on_MC.set_xlabel(\"Moisture Content\")"
   ]
  },
  {
   "cell_type": "code",
   "execution_count": null,
   "metadata": {},
   "outputs": [],
   "source": []
  }
 ],
 "metadata": {
  "kernelspec": {
   "display_name": "Python 3",
   "language": "python",
   "name": "python3"
  },
  "language_info": {
   "codemirror_mode": {
    "name": "ipython",
    "version": 3
   },
   "file_extension": ".py",
   "mimetype": "text/x-python",
   "name": "python",
   "nbconvert_exporter": "python",
   "pygments_lexer": "ipython3",
   "version": "3.6.5"
  }
 },
 "nbformat": 4,
 "nbformat_minor": 2
}
